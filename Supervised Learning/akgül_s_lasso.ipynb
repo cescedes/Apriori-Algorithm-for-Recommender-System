{
 "cells": [
  {
   "cell_type": "markdown",
   "id": "9fc920b3",
   "metadata": {},
   "source": [
    "Solution for task 1 (Lasso) of lab assignment for FDA SS23 by Ş. Aybüke\n"
   ]
  },
  {
   "cell_type": "code",
   "execution_count": 1,
   "id": "abb93858",
   "metadata": {},
   "outputs": [],
   "source": [
    "import numpy as np\n",
    "import pandas as pd\n",
    "import sklearn\n",
    "from sklearn.model_selection import train_test_split\n",
    "from sklearn import metrics"
   ]
  },
  {
   "cell_type": "code",
   "execution_count": 2,
   "id": "49045356",
   "metadata": {},
   "outputs": [
    {
     "name": "stdout",
     "output_type": "stream",
     "text": [
      "                    0                   1                    2  \\\n",
      "0                  X1                  X2                   X3   \n",
      "1   -3.99129435188326    7.82563470547276    32.76627693288877   \n",
      "2  -5.323123352075813   6.776637252223404  -3.5454852424794296   \n",
      "3  -4.872253584708826  12.888046971204801  -10.735855051654557   \n",
      "4  -4.720227087820144  12.304950543262532    46.52273763964726   \n",
      "\n",
      "                    3                    4                     5  \\\n",
      "0                  X4                   X5                    X6   \n",
      "1    7.82563470547276   1.8947163324756637    3.3266276490329663   \n",
      "2   6.776637252223404    4.296118982095523  -0.49900833978618486   \n",
      "3  12.888046971204801   1.5126560734293601     6.902735089615209   \n",
      "4  12.304950543262532  -1.3430443422385547    1.6507739554537815   \n",
      "\n",
      "                     6  \n",
      "0                    y  \n",
      "1  -0.8588726824035818  \n",
      "2  -11.965124895380674  \n",
      "3    7.856514342147126  \n",
      "4   13.129837847736022  \n"
     ]
    }
   ],
   "source": [
    "data = pd.read_csv( 'lasso_data.csv', header = None)\n",
    "print(data.head())"
   ]
  },
  {
   "cell_type": "code",
   "execution_count": 3,
   "id": "4b33d9fb",
   "metadata": {},
   "outputs": [],
   "source": [
    "# Task 1.1 Is it possible to solve the lasso optimisation problem analytically? Explain."
   ]
  },
  {
   "cell_type": "markdown",
   "id": "8bfa1b16",
   "metadata": {},
   "source": [
    "Generally, there is no closed form solution for lasso optimization problem. However, it is possible to analytically solve it in some situations. For example; in the orthogonal design case, where the features are orthonormal to each other, the analytical solution for the Lasso can be found.\n",
    "\n",
    "[ https://www.cs.cmu.edu/~psarkar/sds383c_16/lecture10_scribe.pdf ]"
   ]
  },
  {
   "cell_type": "code",
   "execution_count": 4,
   "id": "10a7dc82",
   "metadata": {},
   "outputs": [],
   "source": [
    "# Task 1.2 Split the data into a train and a test set with appropriate test size."
   ]
  },
  {
   "cell_type": "code",
   "execution_count": 5,
   "id": "170d07eb",
   "metadata": {},
   "outputs": [
    {
     "name": "stdout",
     "output_type": "stream",
     "text": [
      "Int64Index([0, 1, 2, 3, 4, 5, 6], dtype='int64')\n"
     ]
    }
   ],
   "source": [
    "print(data.columns)"
   ]
  },
  {
   "cell_type": "code",
   "execution_count": 6,
   "id": "0c710a39",
   "metadata": {},
   "outputs": [
    {
     "name": "stdout",
     "output_type": "stream",
     "text": [
      "                         0                   1                    2  \\\n",
      "0                       X1                  X2                   X3   \n",
      "1        -3.99129435188326    7.82563470547276    32.76627693288877   \n",
      "2       -5.323123352075813   6.776637252223404  -3.5454852424794296   \n",
      "3       -4.872253584708826  12.888046971204801  -10.735855051654557   \n",
      "4       -4.720227087820144  12.304950543262532    46.52273763964726   \n",
      "...                    ...                 ...                  ...   \n",
      "29996  -3.3485507685737907   11.41484323629449    47.33046123589937   \n",
      "29997  -3.7479113155009696  12.199051179879504    25.42198821491484   \n",
      "29998   -6.101386896793613     9.7332769440465   -2.895524382867272   \n",
      "29999   -6.048181153339485  12.959111647647967     20.6416814864717   \n",
      "30000   -6.111319750209661  6.9225796285569015  -2.2175193097870647   \n",
      "\n",
      "                        3                    4                     5  \n",
      "0                      X4                   X5                    X6  \n",
      "1        7.82563470547276   1.8947163324756637    3.3266276490329663  \n",
      "2       6.776637252223404    4.296118982095523  -0.49900833978618486  \n",
      "3      12.888046971204801   1.5126560734293601     6.902735089615209  \n",
      "4      12.304950543262532  -1.3430443422385547    1.6507739554537815  \n",
      "...                   ...                  ...                   ...  \n",
      "29996   11.41484323629449   -4.062718023119953    1.8432624555249233  \n",
      "29997  12.199051179879504   7.6624642190951135     8.531651650914984  \n",
      "29998     9.7332769440465    16.35482496692132    1.7153510071420621  \n",
      "29999  12.959111647647967  -3.8186590719485594    1.4533708095127797  \n",
      "30000  6.9225796285569015   0.7625780613189537     7.287114750949022  \n",
      "\n",
      "[30001 rows x 6 columns]\n",
      "0                          y\n",
      "1        -0.8588726824035818\n",
      "2        -11.965124895380674\n",
      "3          7.856514342147126\n",
      "4         13.129837847736022\n",
      "                ...         \n",
      "29996     21.314559642115672\n",
      "29997     -4.013071171942679\n",
      "29998     -32.77734536820489\n",
      "29999        13.235417517203\n",
      "30000     -3.473362960611903\n",
      "Name: 6, Length: 30001, dtype: object\n"
     ]
    }
   ],
   "source": [
    "x = data[[0,1,2,3,4,5]]\n",
    "y = data[6]\n",
    "print(x)\n",
    "print(y)"
   ]
  },
  {
   "cell_type": "code",
   "execution_count": 7,
   "id": "25983a1f",
   "metadata": {},
   "outputs": [
    {
     "name": "stdout",
     "output_type": "stream",
     "text": [
      "                         0                   1                    2  \\\n",
      "1        -3.99129435188326    7.82563470547276    32.76627693288877   \n",
      "2       -5.323123352075813   6.776637252223404  -3.5454852424794296   \n",
      "3       -4.872253584708826  12.888046971204801  -10.735855051654557   \n",
      "4       -4.720227087820144  12.304950543262532    46.52273763964726   \n",
      "5      -3.7112684216833336   6.205597725145516    37.29870334554211   \n",
      "...                    ...                 ...                  ...   \n",
      "29996  -3.3485507685737907   11.41484323629449    47.33046123589937   \n",
      "29997  -3.7479113155009696  12.199051179879504    25.42198821491484   \n",
      "29998   -6.101386896793613     9.7332769440465   -2.895524382867272   \n",
      "29999   -6.048181153339485  12.959111647647967     20.6416814864717   \n",
      "30000   -6.111319750209661  6.9225796285569015  -2.2175193097870647   \n",
      "\n",
      "                        3                    4                     5  \n",
      "1        7.82563470547276   1.8947163324756637    3.3266276490329663  \n",
      "2       6.776637252223404    4.296118982095523  -0.49900833978618486  \n",
      "3      12.888046971204801   1.5126560734293601     6.902735089615209  \n",
      "4      12.304950543262532  -1.3430443422385547    1.6507739554537815  \n",
      "5       6.205597725145516   0.9916531774225483     4.691910356216986  \n",
      "...                   ...                  ...                   ...  \n",
      "29996   11.41484323629449   -4.062718023119953    1.8432624555249233  \n",
      "29997  12.199051179879504   7.6624642190951135     8.531651650914984  \n",
      "29998     9.7332769440465    16.35482496692132    1.7153510071420621  \n",
      "29999  12.959111647647967  -3.8186590719485594    1.4533708095127797  \n",
      "30000  6.9225796285569015   0.7625780613189537     7.287114750949022  \n",
      "\n",
      "[30000 rows x 6 columns]\n"
     ]
    }
   ],
   "source": [
    "x=x.drop(index=0)\n",
    "print(x)"
   ]
  },
  {
   "cell_type": "code",
   "execution_count": 8,
   "id": "ceaf72e5",
   "metadata": {},
   "outputs": [
    {
     "name": "stdout",
     "output_type": "stream",
     "text": [
      "1        -0.8588726824035818\n",
      "2        -11.965124895380674\n",
      "3          7.856514342147126\n",
      "4         13.129837847736022\n",
      "5        -1.6109861383925534\n",
      "                ...         \n",
      "29996     21.314559642115672\n",
      "29997     -4.013071171942679\n",
      "29998     -32.77734536820489\n",
      "29999        13.235417517203\n",
      "30000     -3.473362960611903\n",
      "Name: 6, Length: 30000, dtype: object\n"
     ]
    }
   ],
   "source": [
    "y=y.drop(index=0)\n",
    "print(y)"
   ]
  },
  {
   "cell_type": "code",
   "execution_count": 9,
   "id": "98d8c539",
   "metadata": {},
   "outputs": [],
   "source": [
    "X_train, X_test, y_train, y_test = train_test_split(x, y, test_size=0.2)"
   ]
  },
  {
   "cell_type": "code",
   "execution_count": 10,
   "id": "016b6392",
   "metadata": {},
   "outputs": [
    {
     "data": {
      "text/plain": [
       "(24000, 6)"
      ]
     },
     "execution_count": 10,
     "metadata": {},
     "output_type": "execute_result"
    }
   ],
   "source": [
    "X_train.shape"
   ]
  },
  {
   "cell_type": "code",
   "execution_count": 11,
   "id": "0f5e8369",
   "metadata": {},
   "outputs": [
    {
     "data": {
      "text/plain": [
       "(24000,)"
      ]
     },
     "execution_count": 11,
     "metadata": {},
     "output_type": "execute_result"
    }
   ],
   "source": [
    "y_train.shape"
   ]
  },
  {
   "cell_type": "code",
   "execution_count": 12,
   "id": "c095dd53",
   "metadata": {},
   "outputs": [],
   "source": [
    "# Task 1.3 Fit a linear regression model for Y using all remaining variables on the training data."
   ]
  },
  {
   "cell_type": "code",
   "execution_count": 13,
   "id": "158df157",
   "metadata": {},
   "outputs": [
    {
     "data": {
      "text/html": [
       "<style>#sk-container-id-1 {color: black;background-color: white;}#sk-container-id-1 pre{padding: 0;}#sk-container-id-1 div.sk-toggleable {background-color: white;}#sk-container-id-1 label.sk-toggleable__label {cursor: pointer;display: block;width: 100%;margin-bottom: 0;padding: 0.3em;box-sizing: border-box;text-align: center;}#sk-container-id-1 label.sk-toggleable__label-arrow:before {content: \"▸\";float: left;margin-right: 0.25em;color: #696969;}#sk-container-id-1 label.sk-toggleable__label-arrow:hover:before {color: black;}#sk-container-id-1 div.sk-estimator:hover label.sk-toggleable__label-arrow:before {color: black;}#sk-container-id-1 div.sk-toggleable__content {max-height: 0;max-width: 0;overflow: hidden;text-align: left;background-color: #f0f8ff;}#sk-container-id-1 div.sk-toggleable__content pre {margin: 0.2em;color: black;border-radius: 0.25em;background-color: #f0f8ff;}#sk-container-id-1 input.sk-toggleable__control:checked~div.sk-toggleable__content {max-height: 200px;max-width: 100%;overflow: auto;}#sk-container-id-1 input.sk-toggleable__control:checked~label.sk-toggleable__label-arrow:before {content: \"▾\";}#sk-container-id-1 div.sk-estimator input.sk-toggleable__control:checked~label.sk-toggleable__label {background-color: #d4ebff;}#sk-container-id-1 div.sk-label input.sk-toggleable__control:checked~label.sk-toggleable__label {background-color: #d4ebff;}#sk-container-id-1 input.sk-hidden--visually {border: 0;clip: rect(1px 1px 1px 1px);clip: rect(1px, 1px, 1px, 1px);height: 1px;margin: -1px;overflow: hidden;padding: 0;position: absolute;width: 1px;}#sk-container-id-1 div.sk-estimator {font-family: monospace;background-color: #f0f8ff;border: 1px dotted black;border-radius: 0.25em;box-sizing: border-box;margin-bottom: 0.5em;}#sk-container-id-1 div.sk-estimator:hover {background-color: #d4ebff;}#sk-container-id-1 div.sk-parallel-item::after {content: \"\";width: 100%;border-bottom: 1px solid gray;flex-grow: 1;}#sk-container-id-1 div.sk-label:hover label.sk-toggleable__label {background-color: #d4ebff;}#sk-container-id-1 div.sk-serial::before {content: \"\";position: absolute;border-left: 1px solid gray;box-sizing: border-box;top: 0;bottom: 0;left: 50%;z-index: 0;}#sk-container-id-1 div.sk-serial {display: flex;flex-direction: column;align-items: center;background-color: white;padding-right: 0.2em;padding-left: 0.2em;position: relative;}#sk-container-id-1 div.sk-item {position: relative;z-index: 1;}#sk-container-id-1 div.sk-parallel {display: flex;align-items: stretch;justify-content: center;background-color: white;position: relative;}#sk-container-id-1 div.sk-item::before, #sk-container-id-1 div.sk-parallel-item::before {content: \"\";position: absolute;border-left: 1px solid gray;box-sizing: border-box;top: 0;bottom: 0;left: 50%;z-index: -1;}#sk-container-id-1 div.sk-parallel-item {display: flex;flex-direction: column;z-index: 1;position: relative;background-color: white;}#sk-container-id-1 div.sk-parallel-item:first-child::after {align-self: flex-end;width: 50%;}#sk-container-id-1 div.sk-parallel-item:last-child::after {align-self: flex-start;width: 50%;}#sk-container-id-1 div.sk-parallel-item:only-child::after {width: 0;}#sk-container-id-1 div.sk-dashed-wrapped {border: 1px dashed gray;margin: 0 0.4em 0.5em 0.4em;box-sizing: border-box;padding-bottom: 0.4em;background-color: white;}#sk-container-id-1 div.sk-label label {font-family: monospace;font-weight: bold;display: inline-block;line-height: 1.2em;}#sk-container-id-1 div.sk-label-container {text-align: center;}#sk-container-id-1 div.sk-container {/* jupyter's `normalize.less` sets `[hidden] { display: none; }` but bootstrap.min.css set `[hidden] { display: none !important; }` so we also need the `!important` here to be able to override the default hidden behavior on the sphinx rendered scikit-learn.org. See: https://github.com/scikit-learn/scikit-learn/issues/21755 */display: inline-block !important;position: relative;}#sk-container-id-1 div.sk-text-repr-fallback {display: none;}</style><div id=\"sk-container-id-1\" class=\"sk-top-container\"><div class=\"sk-text-repr-fallback\"><pre>LinearRegression()</pre><b>In a Jupyter environment, please rerun this cell to show the HTML representation or trust the notebook. <br />On GitHub, the HTML representation is unable to render, please try loading this page with nbviewer.org.</b></div><div class=\"sk-container\" hidden><div class=\"sk-item\"><div class=\"sk-estimator sk-toggleable\"><input class=\"sk-toggleable__control sk-hidden--visually\" id=\"sk-estimator-id-1\" type=\"checkbox\" checked><label for=\"sk-estimator-id-1\" class=\"sk-toggleable__label sk-toggleable__label-arrow\">LinearRegression</label><div class=\"sk-toggleable__content\"><pre>LinearRegression()</pre></div></div></div></div></div>"
      ],
      "text/plain": [
       "LinearRegression()"
      ]
     },
     "execution_count": 13,
     "metadata": {},
     "output_type": "execute_result"
    }
   ],
   "source": [
    "from sklearn.linear_model import LinearRegression\n",
    "lin_model = LinearRegression()\n",
    "lin_model.fit(X_train, y_train)"
   ]
  },
  {
   "cell_type": "code",
   "execution_count": 14,
   "id": "8adb9321",
   "metadata": {},
   "outputs": [],
   "source": [
    "# Task 1.4 Make a model prediction on unseen data and assess model performance using a suitable metric."
   ]
  },
  {
   "cell_type": "code",
   "execution_count": 15,
   "id": "7b2054b5",
   "metadata": {},
   "outputs": [],
   "source": [
    "lin_predictions = lin_model.predict(X_test)"
   ]
  },
  {
   "cell_type": "code",
   "execution_count": 16,
   "id": "72742dbd",
   "metadata": {},
   "outputs": [
    {
     "data": {
      "text/plain": [
       "0.7911045961418709"
      ]
     },
     "execution_count": 16,
     "metadata": {},
     "output_type": "execute_result"
    }
   ],
   "source": [
    "metrics.mean_absolute_error(y_test, lin_predictions) #Mean Absolute Error (MAE)"
   ]
  },
  {
   "cell_type": "code",
   "execution_count": 17,
   "id": "8aae7ef3",
   "metadata": {},
   "outputs": [
    {
     "data": {
      "text/plain": [
       "0.9955914608299518"
      ]
     },
     "execution_count": 17,
     "metadata": {},
     "output_type": "execute_result"
    }
   ],
   "source": [
    "metrics.mean_squared_error(y_test, lin_predictions) #Mean Squared Error (MSE)"
   ]
  },
  {
   "cell_type": "code",
   "execution_count": 18,
   "id": "b0568d13",
   "metadata": {},
   "outputs": [
    {
     "data": {
      "text/plain": [
       "0.9977932956429161"
      ]
     },
     "execution_count": 18,
     "metadata": {},
     "output_type": "execute_result"
    }
   ],
   "source": [
    "np.sqrt(metrics.mean_squared_error(y_test, lin_predictions)) #Root Mean Squared Error (RMSE) "
   ]
  },
  {
   "cell_type": "code",
   "execution_count": 19,
   "id": "a9117d9a",
   "metadata": {},
   "outputs": [],
   "source": [
    "# Task 1.5 Perform lasso regression using the same data as in task 1.3"
   ]
  },
  {
   "cell_type": "code",
   "execution_count": 20,
   "id": "acb68125",
   "metadata": {},
   "outputs": [
    {
     "data": {
      "text/html": [
       "<style>#sk-container-id-2 {color: black;background-color: white;}#sk-container-id-2 pre{padding: 0;}#sk-container-id-2 div.sk-toggleable {background-color: white;}#sk-container-id-2 label.sk-toggleable__label {cursor: pointer;display: block;width: 100%;margin-bottom: 0;padding: 0.3em;box-sizing: border-box;text-align: center;}#sk-container-id-2 label.sk-toggleable__label-arrow:before {content: \"▸\";float: left;margin-right: 0.25em;color: #696969;}#sk-container-id-2 label.sk-toggleable__label-arrow:hover:before {color: black;}#sk-container-id-2 div.sk-estimator:hover label.sk-toggleable__label-arrow:before {color: black;}#sk-container-id-2 div.sk-toggleable__content {max-height: 0;max-width: 0;overflow: hidden;text-align: left;background-color: #f0f8ff;}#sk-container-id-2 div.sk-toggleable__content pre {margin: 0.2em;color: black;border-radius: 0.25em;background-color: #f0f8ff;}#sk-container-id-2 input.sk-toggleable__control:checked~div.sk-toggleable__content {max-height: 200px;max-width: 100%;overflow: auto;}#sk-container-id-2 input.sk-toggleable__control:checked~label.sk-toggleable__label-arrow:before {content: \"▾\";}#sk-container-id-2 div.sk-estimator input.sk-toggleable__control:checked~label.sk-toggleable__label {background-color: #d4ebff;}#sk-container-id-2 div.sk-label input.sk-toggleable__control:checked~label.sk-toggleable__label {background-color: #d4ebff;}#sk-container-id-2 input.sk-hidden--visually {border: 0;clip: rect(1px 1px 1px 1px);clip: rect(1px, 1px, 1px, 1px);height: 1px;margin: -1px;overflow: hidden;padding: 0;position: absolute;width: 1px;}#sk-container-id-2 div.sk-estimator {font-family: monospace;background-color: #f0f8ff;border: 1px dotted black;border-radius: 0.25em;box-sizing: border-box;margin-bottom: 0.5em;}#sk-container-id-2 div.sk-estimator:hover {background-color: #d4ebff;}#sk-container-id-2 div.sk-parallel-item::after {content: \"\";width: 100%;border-bottom: 1px solid gray;flex-grow: 1;}#sk-container-id-2 div.sk-label:hover label.sk-toggleable__label {background-color: #d4ebff;}#sk-container-id-2 div.sk-serial::before {content: \"\";position: absolute;border-left: 1px solid gray;box-sizing: border-box;top: 0;bottom: 0;left: 50%;z-index: 0;}#sk-container-id-2 div.sk-serial {display: flex;flex-direction: column;align-items: center;background-color: white;padding-right: 0.2em;padding-left: 0.2em;position: relative;}#sk-container-id-2 div.sk-item {position: relative;z-index: 1;}#sk-container-id-2 div.sk-parallel {display: flex;align-items: stretch;justify-content: center;background-color: white;position: relative;}#sk-container-id-2 div.sk-item::before, #sk-container-id-2 div.sk-parallel-item::before {content: \"\";position: absolute;border-left: 1px solid gray;box-sizing: border-box;top: 0;bottom: 0;left: 50%;z-index: -1;}#sk-container-id-2 div.sk-parallel-item {display: flex;flex-direction: column;z-index: 1;position: relative;background-color: white;}#sk-container-id-2 div.sk-parallel-item:first-child::after {align-self: flex-end;width: 50%;}#sk-container-id-2 div.sk-parallel-item:last-child::after {align-self: flex-start;width: 50%;}#sk-container-id-2 div.sk-parallel-item:only-child::after {width: 0;}#sk-container-id-2 div.sk-dashed-wrapped {border: 1px dashed gray;margin: 0 0.4em 0.5em 0.4em;box-sizing: border-box;padding-bottom: 0.4em;background-color: white;}#sk-container-id-2 div.sk-label label {font-family: monospace;font-weight: bold;display: inline-block;line-height: 1.2em;}#sk-container-id-2 div.sk-label-container {text-align: center;}#sk-container-id-2 div.sk-container {/* jupyter's `normalize.less` sets `[hidden] { display: none; }` but bootstrap.min.css set `[hidden] { display: none !important; }` so we also need the `!important` here to be able to override the default hidden behavior on the sphinx rendered scikit-learn.org. See: https://github.com/scikit-learn/scikit-learn/issues/21755 */display: inline-block !important;position: relative;}#sk-container-id-2 div.sk-text-repr-fallback {display: none;}</style><div id=\"sk-container-id-2\" class=\"sk-top-container\"><div class=\"sk-text-repr-fallback\"><pre>Lasso()</pre><b>In a Jupyter environment, please rerun this cell to show the HTML representation or trust the notebook. <br />On GitHub, the HTML representation is unable to render, please try loading this page with nbviewer.org.</b></div><div class=\"sk-container\" hidden><div class=\"sk-item\"><div class=\"sk-estimator sk-toggleable\"><input class=\"sk-toggleable__control sk-hidden--visually\" id=\"sk-estimator-id-2\" type=\"checkbox\" checked><label for=\"sk-estimator-id-2\" class=\"sk-toggleable__label sk-toggleable__label-arrow\">Lasso</label><div class=\"sk-toggleable__content\"><pre>Lasso()</pre></div></div></div></div></div>"
      ],
      "text/plain": [
       "Lasso()"
      ]
     },
     "execution_count": 20,
     "metadata": {},
     "output_type": "execute_result"
    }
   ],
   "source": [
    "lasso_model=sklearn.linear_model.Lasso()\n",
    "lasso_model.fit(X_train, y_train)"
   ]
  },
  {
   "cell_type": "code",
   "execution_count": 21,
   "id": "0aac8842",
   "metadata": {},
   "outputs": [],
   "source": [
    "# Task 1.6 Compare model performance to the original linear model by using the same metric and test set as in 1.4.\n",
    "# What do you observe?"
   ]
  },
  {
   "cell_type": "code",
   "execution_count": 22,
   "id": "0270b96d",
   "metadata": {},
   "outputs": [],
   "source": [
    "lasso_predictions = lasso_model.predict(X_test)"
   ]
  },
  {
   "cell_type": "code",
   "execution_count": 23,
   "id": "3ac6abb2",
   "metadata": {},
   "outputs": [
    {
     "data": {
      "text/plain": [
       "1.209332286905809"
      ]
     },
     "execution_count": 23,
     "metadata": {},
     "output_type": "execute_result"
    }
   ],
   "source": [
    "metrics.mean_absolute_error(y_test, lasso_predictions) #Mean Absolute Error (MAE)"
   ]
  },
  {
   "cell_type": "code",
   "execution_count": 24,
   "id": "ceb90608",
   "metadata": {},
   "outputs": [
    {
     "data": {
      "text/plain": [
       "2.3237535638757234"
      ]
     },
     "execution_count": 24,
     "metadata": {},
     "output_type": "execute_result"
    }
   ],
   "source": [
    "metrics.mean_squared_error(y_test, lasso_predictions) #Mean Squared Error (MSE)"
   ]
  },
  {
   "cell_type": "code",
   "execution_count": 25,
   "id": "7ca9c433",
   "metadata": {},
   "outputs": [
    {
     "data": {
      "text/plain": [
       "1.5243862908973314"
      ]
     },
     "execution_count": 25,
     "metadata": {},
     "output_type": "execute_result"
    }
   ],
   "source": [
    "np.sqrt(metrics.mean_squared_error(y_test, lasso_predictions)) #Root Mean Squared Error (RMSE) "
   ]
  },
  {
   "cell_type": "markdown",
   "id": "f9c3d860",
   "metadata": {},
   "source": [
    "After observing MAE, MSE and RMSE results, we can see that Lasso Regression did poorly when compared to Linear Regression."
   ]
  },
  {
   "cell_type": "code",
   "execution_count": 26,
   "id": "615f597a",
   "metadata": {},
   "outputs": [],
   "source": [
    "# Task 1.7 Print out the model coefficients for both, the linear model and the lasso model."
   ]
  },
  {
   "cell_type": "code",
   "execution_count": 27,
   "id": "f33ce348",
   "metadata": {},
   "outputs": [
    {
     "data": {
      "text/html": [
       "<div>\n",
       "<style scoped>\n",
       "    .dataframe tbody tr th:only-of-type {\n",
       "        vertical-align: middle;\n",
       "    }\n",
       "\n",
       "    .dataframe tbody tr th {\n",
       "        vertical-align: top;\n",
       "    }\n",
       "\n",
       "    .dataframe thead th {\n",
       "        text-align: right;\n",
       "    }\n",
       "</style>\n",
       "<table border=\"1\" class=\"dataframe\">\n",
       "  <thead>\n",
       "    <tr style=\"text-align: right;\">\n",
       "      <th></th>\n",
       "      <th>Coeff</th>\n",
       "    </tr>\n",
       "  </thead>\n",
       "  <tbody>\n",
       "    <tr>\n",
       "      <th>0</th>\n",
       "      <td>3.008080</td>\n",
       "    </tr>\n",
       "    <tr>\n",
       "      <th>1</th>\n",
       "      <td>1.002308</td>\n",
       "    </tr>\n",
       "    <tr>\n",
       "      <th>2</th>\n",
       "      <td>-0.000230</td>\n",
       "    </tr>\n",
       "    <tr>\n",
       "      <th>3</th>\n",
       "      <td>1.002308</td>\n",
       "    </tr>\n",
       "    <tr>\n",
       "      <th>4</th>\n",
       "      <td>-2.001425</td>\n",
       "    </tr>\n",
       "    <tr>\n",
       "      <th>5</th>\n",
       "      <td>-0.001267</td>\n",
       "    </tr>\n",
       "  </tbody>\n",
       "</table>\n",
       "</div>"
      ],
      "text/plain": [
       "      Coeff\n",
       "0  3.008080\n",
       "1  1.002308\n",
       "2 -0.000230\n",
       "3  1.002308\n",
       "4 -2.001425\n",
       "5 -0.001267"
      ]
     },
     "execution_count": 27,
     "metadata": {},
     "output_type": "execute_result"
    }
   ],
   "source": [
    "pd.DataFrame(lin_model.coef_, x.columns, columns = ['Coeff'])"
   ]
  },
  {
   "cell_type": "code",
   "execution_count": 28,
   "id": "35d81c34",
   "metadata": {},
   "outputs": [
    {
     "data": {
      "text/html": [
       "<div>\n",
       "<style scoped>\n",
       "    .dataframe tbody tr th:only-of-type {\n",
       "        vertical-align: middle;\n",
       "    }\n",
       "\n",
       "    .dataframe tbody tr th {\n",
       "        vertical-align: top;\n",
       "    }\n",
       "\n",
       "    .dataframe thead th {\n",
       "        text-align: right;\n",
       "    }\n",
       "</style>\n",
       "<table border=\"1\" class=\"dataframe\">\n",
       "  <thead>\n",
       "    <tr style=\"text-align: right;\">\n",
       "      <th></th>\n",
       "      <th>Coeff</th>\n",
       "    </tr>\n",
       "  </thead>\n",
       "  <tbody>\n",
       "    <tr>\n",
       "      <th>0</th>\n",
       "      <td>2.004437e+00</td>\n",
       "    </tr>\n",
       "    <tr>\n",
       "      <th>1</th>\n",
       "      <td>1.753939e+00</td>\n",
       "    </tr>\n",
       "    <tr>\n",
       "      <th>2</th>\n",
       "      <td>-0.000000e+00</td>\n",
       "    </tr>\n",
       "    <tr>\n",
       "      <th>3</th>\n",
       "      <td>3.060919e-15</td>\n",
       "    </tr>\n",
       "    <tr>\n",
       "      <th>4</th>\n",
       "      <td>-1.960957e+00</td>\n",
       "    </tr>\n",
       "    <tr>\n",
       "      <th>5</th>\n",
       "      <td>0.000000e+00</td>\n",
       "    </tr>\n",
       "  </tbody>\n",
       "</table>\n",
       "</div>"
      ],
      "text/plain": [
       "          Coeff\n",
       "0  2.004437e+00\n",
       "1  1.753939e+00\n",
       "2 -0.000000e+00\n",
       "3  3.060919e-15\n",
       "4 -1.960957e+00\n",
       "5  0.000000e+00"
      ]
     },
     "execution_count": 28,
     "metadata": {},
     "output_type": "execute_result"
    }
   ],
   "source": [
    "pd.DataFrame(lasso_model.coef_, x.columns, columns = ['Coeff'])"
   ]
  },
  {
   "cell_type": "code",
   "execution_count": 29,
   "id": "3c7ab824",
   "metadata": {},
   "outputs": [],
   "source": [
    "# Task 1.8 What do you observe comparing the estimated model coefficients? Was this result expected? (5 points)\n",
    "# Hint: Look at the data generating process and lasso explanation to answer this question"
   ]
  },
  {
   "cell_type": "markdown",
   "id": "91ed277b",
   "metadata": {},
   "source": [
    "When we compare the estimated model coefficients, the most important thing to note is that the 3rd and the 6th coefficients have been completely discarded by the Lasso Regression model. So, they do not contribute to the predictions made by the Lasso model, at all. This is expected, because, while minimizing the cost function, Lasso Regression will choose the useful features and the Lasso penalty will remove the ineffective ones by shrinking the coefficients to 0."
   ]
  },
  {
   "cell_type": "markdown",
   "id": "de4e6cf9",
   "metadata": {},
   "source": [
    "Resources; \n",
    "https://scikit-learn.org/\n",
    "https://www.freecodecamp.org/news/"
   ]
  }
 ],
 "metadata": {
  "kernelspec": {
   "display_name": "Python 3 (ipykernel)",
   "language": "python",
   "name": "python3"
  },
  "language_info": {
   "codemirror_mode": {
    "name": "ipython",
    "version": 3
   },
   "file_extension": ".py",
   "mimetype": "text/x-python",
   "name": "python",
   "nbconvert_exporter": "python",
   "pygments_lexer": "ipython3",
   "version": "3.9.12"
  }
 },
 "nbformat": 4,
 "nbformat_minor": 5
}
