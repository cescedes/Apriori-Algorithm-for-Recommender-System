{
 "cells": [
  {
   "cell_type": "markdown",
   "id": "008444c8",
   "metadata": {},
   "source": [
    "Solution for task 2 (Image Classifier) of lab assignment for FDA SS23 by Ş. Aybüke"
   ]
  },
  {
   "cell_type": "code",
   "execution_count": 1,
   "id": "016436fd",
   "metadata": {},
   "outputs": [],
   "source": [
    "import pandas as pd\n",
    "import numpy as np\n",
    "import tensorflow as tf\n",
    "from keras import datasets, layers, models\n",
    "from tensorflow.keras.utils import to_categorical\n",
    "from tensorflow.keras.optimizers import SGD\n",
    "import matplotlib.pyplot as plt\n",
    "from sklearn.metrics import accuracy_score\n",
    "from sklearn.model_selection import train_test_split\n",
    "from sklearn.preprocessing import StandardScaler"
   ]
  },
  {
   "cell_type": "code",
   "execution_count": 2,
   "id": "ffd999ea",
   "metadata": {},
   "outputs": [],
   "source": [
    "X = pd.read_csv(\"X_train.csv\")\n",
    "y = pd.read_csv(\"y_train.csv\")"
   ]
  },
  {
   "cell_type": "code",
   "execution_count": 3,
   "id": "3bca7a4b",
   "metadata": {},
   "outputs": [
    {
     "data": {
      "text/plain": [
       "array([ 0,  1,  2,  3,  4,  5,  6,  7,  8,  9, 10, 11, 12, 13, 14, 15, 16,\n",
       "       17, 18, 19, 20, 21, 22, 23, 24, 25, 26, 27, 28, 29, 30, 31, 32, 33,\n",
       "       34, 35, 36, 37, 38, 39], dtype=int64)"
      ]
     },
     "execution_count": 3,
     "metadata": {},
     "output_type": "execute_result"
    }
   ],
   "source": [
    "np.unique(y)"
   ]
  },
  {
   "cell_type": "code",
   "execution_count": 4,
   "id": "d3ca0623",
   "metadata": {},
   "outputs": [],
   "source": [
    "n_classes = 40"
   ]
  },
  {
   "cell_type": "code",
   "execution_count": 5,
   "id": "b4daf518",
   "metadata": {},
   "outputs": [],
   "source": [
    "X_train, X_test, y_train, y_test = train_test_split(X, y, test_size=0.2, random_state=44)\n",
    "\n",
    "def train_predict(X_train, y_train, X_test):\n",
    "    assert X_train.shape == (len(X_train), 6336)\n",
    "    assert y_train.shape == (len(y_train), 1)\n",
    "    assert X_test.shape == (len(X_test), 6336)"
   ]
  },
  {
   "cell_type": "code",
   "execution_count": 6,
   "id": "986053c1",
   "metadata": {},
   "outputs": [],
   "source": [
    "    scaler = StandardScaler().fit(X_train)\n",
    "\n",
    "    X_train = scaler.transform(X_train)\n",
    "    X_test = scaler.transform(X_test)"
   ]
  },
  {
   "cell_type": "code",
   "execution_count": 7,
   "id": "96f54567",
   "metadata": {},
   "outputs": [],
   "source": [
    "    y_train_cat = to_categorical(y_train)"
   ]
  },
  {
   "cell_type": "code",
   "execution_count": null,
   "id": "e24310e2",
   "metadata": {},
   "outputs": [],
   "source": [
    "    np.random.seed(245)\n",
    "    tf.random.set_seed(3754)\n",
    "\n",
    "    model = models.Sequential()\n",
    "\n",
    "    model.add(layers.Dense(160, activation='relu', input_shape=X_train.shape[1:]))\n",
    "\n",
    "    model.add(layers.Dense(n_classes, activation='softmax'))\n",
    "\n",
    "    model.compile(loss='categorical_crossentropy', \n",
    "                  optimizer=SGD(learning_rate=0.01),\n",
    "                  metrics=['accuracy'])\n",
    "    \n",
    "    model.fit(X_train, y_train_cat, epochs=500,verbose=0)\n",
    "    y_pred = np.argmax(model.predict(X_test), axis=1)"
   ]
  },
  {
   "cell_type": "code",
   "execution_count": null,
   "id": "f18178f5",
   "metadata": {},
   "outputs": [],
   "source": [
    "    assert y_pred.shape == (len(X_test),) or y_pred.shape == (len(X_test), 1)"
   ]
  },
  {
   "cell_type": "code",
   "execution_count": null,
   "id": "b9551ac5",
   "metadata": {},
   "outputs": [],
   "source": [
    "    acc = {}\n",
    "    accuracy_score(y_test, y_pred)"
   ]
  }
 ],
 "metadata": {
  "kernelspec": {
   "display_name": "Python 3 (ipykernel)",
   "language": "python",
   "name": "python3"
  },
  "language_info": {
   "codemirror_mode": {
    "name": "ipython",
    "version": 3
   },
   "file_extension": ".py",
   "mimetype": "text/x-python",
   "name": "python",
   "nbconvert_exporter": "python",
   "pygments_lexer": "ipython3",
   "version": "3.9.12"
  }
 },
 "nbformat": 4,
 "nbformat_minor": 5
}
